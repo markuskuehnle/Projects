{
 "cells": [
  {
   "cell_type": "markdown",
   "id": "d9f0d8cd-15b4-4013-8483-47fd63a7185d",
   "metadata": {},
   "source": [
    "# Air Quality Analysis Ulm 2022"
   ]
  },
  {
   "cell_type": "markdown",
   "id": "ce277a8e-c832-4634-aa54-b35a510bf473",
   "metadata": {},
   "source": [
    "## Business Understanding"
   ]
  },
  {
   "cell_type": "code",
   "execution_count": null,
   "id": "b711819c-304f-4a82-af53-2d270c251d23",
   "metadata": {},
   "outputs": [],
   "source": []
  },
  {
   "cell_type": "markdown",
   "id": "4ec58e08-939a-47ad-8ab7-6400a974ea97",
   "metadata": {
    "jp-MarkdownHeadingCollapsed": true,
    "tags": []
   },
   "source": [
    "### Relevant Imports"
   ]
  },
  {
   "cell_type": "code",
   "execution_count": 1,
   "id": "ce99e322-26d9-4c38-adaf-6580c5e07d20",
   "metadata": {},
   "outputs": [],
   "source": [
    "import urllib\n",
    "import pandas as pd\n",
    "from pandas import json_normalize\n",
    "from pandasql import sqldf\n",
    "import json\n",
    "import pprint\n",
    "import sqlite3 as db"
   ]
  },
  {
   "cell_type": "markdown",
   "id": "5e0afa92-b8d3-4cd8-b6e9-c1751f7d1bbe",
   "metadata": {
    "jp-MarkdownHeadingCollapsed": true,
    "tags": []
   },
   "source": [
    "### Extract data from API"
   ]
  },
  {
   "cell_type": "code",
   "execution_count": 2,
   "id": "04b6d14e-f592-4a32-808c-381b8c72eeb7",
   "metadata": {},
   "outputs": [],
   "source": [
    "# get HTTP Response from url\n",
    "url = 'https://datenhub.ulm.de/ckan/api/3/action/datastore_search?resource_id=b49de35e-040c-4530-9208-eefadc97b610&limit=206725'  \n",
    "response = urllib.request.urlopen(url)\n",
    "assert response.code == 200"
   ]
  },
  {
   "cell_type": "code",
   "execution_count": 3,
   "id": "242bc365-9d13-4aa2-855f-d920df1ef725",
   "metadata": {},
   "outputs": [],
   "source": [
    "# convert HTTP Response to json\n",
    "string = response.read().decode('utf-8')\n",
    "response_dict = json.loads(string)\n",
    "assert response_dict['success'] is True"
   ]
  },
  {
   "cell_type": "code",
   "execution_count": 4,
   "id": "9fe45c0c-7802-4bb1-b5b9-388b1dda4d07",
   "metadata": {},
   "outputs": [],
   "source": [
    "# convert JSON object to dataframe\n",
    "created_package = response_dict['result']\n",
    "df = pd.DataFrame.from_dict(created_package['records'])"
   ]
  },
  {
   "cell_type": "code",
   "execution_count": 5,
   "id": "9cf601c0-edec-45ba-89c4-85aa5d553c34",
   "metadata": {},
   "outputs": [],
   "source": [
    "# remove \\r\\n from string conversion\n",
    "df = df.replace({r'\\r\\n': ''}, regex=True)"
   ]
  },
  {
   "cell_type": "markdown",
   "id": "88126d29-9064-4662-ab85-5f58c7156444",
   "metadata": {
    "jp-MarkdownHeadingCollapsed": true,
    "tags": []
   },
   "source": [
    "## Data Understanding"
   ]
  },
  {
   "cell_type": "markdown",
   "id": "243dae1e-f42e-4e8f-8619-663a81d4d0f4",
   "metadata": {
    "tags": []
   },
   "source": [
    "#### Beschreibung der Daten"
   ]
  },
  {
   "cell_type": "markdown",
   "id": "51756bd0-d885-4ba2-9539-43c8b0cd9e64",
   "metadata": {},
   "source": [
    "station: Beschreibung des Messortes<br>\n",
    "schadstoff: Schadstoffe in der Luft <br>\n",
    "zeit_utc: Zeitstempel am Ende der Messung<br>\n",
    "wert: Messwert in µg/m³ <br>\n",
    "\n",
    "Schadstoffe\n",
    "- NO2: Stickstoffdioxid\n",
    "- O3: Ozon\n",
    "- PM2.5: Feinstaub mit einem Durchmesser kleiner als 2,5µm\n",
    "- PM10: Feinstaub mit einem Durchmesser kleiner als 10µm<br>\n"
   ]
  },
  {
   "cell_type": "markdown",
   "id": "b34083ea-4067-4813-83db-632d0fd0961f",
   "metadata": {
    "tags": []
   },
   "source": [
    "## Data Preperation"
   ]
  },
  {
   "cell_type": "code",
   "execution_count": 6,
   "id": "26bfef99-5bec-4ac8-a06b-4ab53a28c178",
   "metadata": {},
   "outputs": [
    {
     "name": "stdout",
     "output_type": "stream",
     "text": [
      "<class 'pandas.core.frame.DataFrame'>\n",
      "RangeIndex: 206725 entries, 0 to 206724\n",
      "Data columns (total 5 columns):\n",
      " #   Column      Non-Null Count   Dtype  \n",
      "---  ------      --------------   -----  \n",
      " 0   _id         206725 non-null  int64  \n",
      " 1   station     206725 non-null  object \n",
      " 2   schadstoff  206725 non-null  object \n",
      " 3   zeit_utc    206725 non-null  object \n",
      " 4   wert        206725 non-null  float64\n",
      "dtypes: float64(1), int64(1), object(3)\n",
      "memory usage: 7.9+ MB\n"
     ]
    }
   ],
   "source": [
    "df.info()"
   ]
  },
  {
   "cell_type": "code",
   "execution_count": 7,
   "id": "e1e8a14d-51a6-486a-93e0-5c2e0522959d",
   "metadata": {},
   "outputs": [],
   "source": [
    "df['zeit_utc'] = df['zeit_utc'].replace({r'T': ' '}, regex=True)"
   ]
  },
  {
   "cell_type": "code",
   "execution_count": 8,
   "id": "aa22a5e0-5299-48f1-8ba2-b6ed820bf0c7",
   "metadata": {},
   "outputs": [
    {
     "data": {
      "text/html": [
       "<div>\n",
       "<style scoped>\n",
       "    .dataframe tbody tr th:only-of-type {\n",
       "        vertical-align: middle;\n",
       "    }\n",
       "\n",
       "    .dataframe tbody tr th {\n",
       "        vertical-align: top;\n",
       "    }\n",
       "\n",
       "    .dataframe thead th {\n",
       "        text-align: right;\n",
       "    }\n",
       "</style>\n",
       "<table border=\"1\" class=\"dataframe\">\n",
       "  <thead>\n",
       "    <tr style=\"text-align: right;\">\n",
       "      <th></th>\n",
       "      <th>_id</th>\n",
       "      <th>station</th>\n",
       "      <th>schadstoff</th>\n",
       "      <th>zeit_utc</th>\n",
       "      <th>wert</th>\n",
       "    </tr>\n",
       "  </thead>\n",
       "  <tbody>\n",
       "    <tr>\n",
       "      <th>0</th>\n",
       "      <td>1</td>\n",
       "      <td>Ulm Trollingerweg 2</td>\n",
       "      <td>NO2</td>\n",
       "      <td>2020-11-13 01:00:00</td>\n",
       "      <td>33.0</td>\n",
       "    </tr>\n",
       "    <tr>\n",
       "      <th>1</th>\n",
       "      <td>2</td>\n",
       "      <td>Ulm Trollingerweg 2</td>\n",
       "      <td>O3</td>\n",
       "      <td>2020-11-13 01:00:00</td>\n",
       "      <td>0.0</td>\n",
       "    </tr>\n",
       "    <tr>\n",
       "      <th>2</th>\n",
       "      <td>3</td>\n",
       "      <td>Ulm Trollingerweg 2</td>\n",
       "      <td>PM10</td>\n",
       "      <td>2020-11-13 01:00:00</td>\n",
       "      <td>26.0</td>\n",
       "    </tr>\n",
       "    <tr>\n",
       "      <th>3</th>\n",
       "      <td>4</td>\n",
       "      <td>Ulm in der Wanne</td>\n",
       "      <td>PM10</td>\n",
       "      <td>2020-11-13 01:00:00</td>\n",
       "      <td>22.0</td>\n",
       "    </tr>\n",
       "    <tr>\n",
       "      <th>4</th>\n",
       "      <td>5</td>\n",
       "      <td>Ulm Trollingerweg 2</td>\n",
       "      <td>PM2.5</td>\n",
       "      <td>2020-11-13 01:00:00</td>\n",
       "      <td>15.0</td>\n",
       "    </tr>\n",
       "    <tr>\n",
       "      <th>...</th>\n",
       "      <td>...</td>\n",
       "      <td>...</td>\n",
       "      <td>...</td>\n",
       "      <td>...</td>\n",
       "      <td>...</td>\n",
       "    </tr>\n",
       "    <tr>\n",
       "      <th>206720</th>\n",
       "      <td>206721</td>\n",
       "      <td>Ulm in der Wanne</td>\n",
       "      <td>PM2.5</td>\n",
       "      <td>2022-08-11 15:00:00</td>\n",
       "      <td>8.0</td>\n",
       "    </tr>\n",
       "    <tr>\n",
       "      <th>206721</th>\n",
       "      <td>206722</td>\n",
       "      <td>Ulm in der Wanne</td>\n",
       "      <td>NO2</td>\n",
       "      <td>2022-08-11 16:00:00</td>\n",
       "      <td>34.0</td>\n",
       "    </tr>\n",
       "    <tr>\n",
       "      <th>206722</th>\n",
       "      <td>206723</td>\n",
       "      <td>Ulm in der Wanne</td>\n",
       "      <td>O3</td>\n",
       "      <td>2022-08-11 16:00:00</td>\n",
       "      <td>99.0</td>\n",
       "    </tr>\n",
       "    <tr>\n",
       "      <th>206723</th>\n",
       "      <td>206724</td>\n",
       "      <td>Ulm in der Wanne</td>\n",
       "      <td>PM10</td>\n",
       "      <td>2022-08-11 16:00:00</td>\n",
       "      <td>24.0</td>\n",
       "    </tr>\n",
       "    <tr>\n",
       "      <th>206724</th>\n",
       "      <td>206725</td>\n",
       "      <td>Ulm in der Wanne</td>\n",
       "      <td>PM2.5</td>\n",
       "      <td>2022-08-11 16:00:00</td>\n",
       "      <td>10.0</td>\n",
       "    </tr>\n",
       "  </tbody>\n",
       "</table>\n",
       "<p>206725 rows × 5 columns</p>\n",
       "</div>"
      ],
      "text/plain": [
       "           _id              station schadstoff             zeit_utc  wert\n",
       "0            1  Ulm Trollingerweg 2        NO2  2020-11-13 01:00:00  33.0\n",
       "1            2  Ulm Trollingerweg 2         O3  2020-11-13 01:00:00   0.0\n",
       "2            3  Ulm Trollingerweg 2       PM10  2020-11-13 01:00:00  26.0\n",
       "3            4     Ulm in der Wanne       PM10  2020-11-13 01:00:00  22.0\n",
       "4            5  Ulm Trollingerweg 2      PM2.5  2020-11-13 01:00:00  15.0\n",
       "...        ...                  ...        ...                  ...   ...\n",
       "206720  206721     Ulm in der Wanne      PM2.5  2022-08-11 15:00:00   8.0\n",
       "206721  206722     Ulm in der Wanne        NO2  2022-08-11 16:00:00  34.0\n",
       "206722  206723     Ulm in der Wanne         O3  2022-08-11 16:00:00  99.0\n",
       "206723  206724     Ulm in der Wanne       PM10  2022-08-11 16:00:00  24.0\n",
       "206724  206725     Ulm in der Wanne      PM2.5  2022-08-11 16:00:00  10.0\n",
       "\n",
       "[206725 rows x 5 columns]"
      ]
     },
     "execution_count": 8,
     "metadata": {},
     "output_type": "execute_result"
    }
   ],
   "source": [
    "df"
   ]
  },
  {
   "cell_type": "code",
   "execution_count": 9,
   "id": "a58db6ff-7174-41b5-bea8-6892d3e7ec37",
   "metadata": {},
   "outputs": [],
   "source": [
    "df['zeit_utc'] = pd.to_datetime(df['zeit_utc'])"
   ]
  },
  {
   "cell_type": "code",
   "execution_count": 10,
   "id": "64066673-9ae0-4aaf-99ae-b641d50af527",
   "metadata": {},
   "outputs": [],
   "source": [
    "# separate date and time values\n",
    "df['date'] = [d.date() for d in df['zeit_utc']]\n",
    "df['time'] = [d.time() for d in df['zeit_utc']]"
   ]
  },
  {
   "cell_type": "code",
   "execution_count": 11,
   "id": "7cc40ed7-f997-476d-a2c7-d7640599548a",
   "metadata": {},
   "outputs": [],
   "source": [
    "df.drop('zeit_utc', axis=1, inplace=True)"
   ]
  },
  {
   "cell_type": "code",
   "execution_count": 12,
   "id": "c0b54f57-a0c5-4321-a7f3-4894276b2612",
   "metadata": {},
   "outputs": [
    {
     "data": {
      "text/html": [
       "<div>\n",
       "<style scoped>\n",
       "    .dataframe tbody tr th:only-of-type {\n",
       "        vertical-align: middle;\n",
       "    }\n",
       "\n",
       "    .dataframe tbody tr th {\n",
       "        vertical-align: top;\n",
       "    }\n",
       "\n",
       "    .dataframe thead th {\n",
       "        text-align: right;\n",
       "    }\n",
       "</style>\n",
       "<table border=\"1\" class=\"dataframe\">\n",
       "  <thead>\n",
       "    <tr style=\"text-align: right;\">\n",
       "      <th></th>\n",
       "      <th>_id</th>\n",
       "      <th>station</th>\n",
       "      <th>schadstoff</th>\n",
       "      <th>wert</th>\n",
       "      <th>date</th>\n",
       "      <th>time</th>\n",
       "    </tr>\n",
       "  </thead>\n",
       "  <tbody>\n",
       "    <tr>\n",
       "      <th>0</th>\n",
       "      <td>1</td>\n",
       "      <td>Ulm Trollingerweg 2</td>\n",
       "      <td>NO2</td>\n",
       "      <td>33.0</td>\n",
       "      <td>2020-11-13</td>\n",
       "      <td>01:00:00</td>\n",
       "    </tr>\n",
       "    <tr>\n",
       "      <th>1</th>\n",
       "      <td>2</td>\n",
       "      <td>Ulm Trollingerweg 2</td>\n",
       "      <td>O3</td>\n",
       "      <td>0.0</td>\n",
       "      <td>2020-11-13</td>\n",
       "      <td>01:00:00</td>\n",
       "    </tr>\n",
       "    <tr>\n",
       "      <th>2</th>\n",
       "      <td>3</td>\n",
       "      <td>Ulm Trollingerweg 2</td>\n",
       "      <td>PM10</td>\n",
       "      <td>26.0</td>\n",
       "      <td>2020-11-13</td>\n",
       "      <td>01:00:00</td>\n",
       "    </tr>\n",
       "    <tr>\n",
       "      <th>3</th>\n",
       "      <td>4</td>\n",
       "      <td>Ulm in der Wanne</td>\n",
       "      <td>PM10</td>\n",
       "      <td>22.0</td>\n",
       "      <td>2020-11-13</td>\n",
       "      <td>01:00:00</td>\n",
       "    </tr>\n",
       "    <tr>\n",
       "      <th>4</th>\n",
       "      <td>5</td>\n",
       "      <td>Ulm Trollingerweg 2</td>\n",
       "      <td>PM2.5</td>\n",
       "      <td>15.0</td>\n",
       "      <td>2020-11-13</td>\n",
       "      <td>01:00:00</td>\n",
       "    </tr>\n",
       "    <tr>\n",
       "      <th>...</th>\n",
       "      <td>...</td>\n",
       "      <td>...</td>\n",
       "      <td>...</td>\n",
       "      <td>...</td>\n",
       "      <td>...</td>\n",
       "      <td>...</td>\n",
       "    </tr>\n",
       "    <tr>\n",
       "      <th>206720</th>\n",
       "      <td>206721</td>\n",
       "      <td>Ulm in der Wanne</td>\n",
       "      <td>PM2.5</td>\n",
       "      <td>8.0</td>\n",
       "      <td>2022-08-11</td>\n",
       "      <td>15:00:00</td>\n",
       "    </tr>\n",
       "    <tr>\n",
       "      <th>206721</th>\n",
       "      <td>206722</td>\n",
       "      <td>Ulm in der Wanne</td>\n",
       "      <td>NO2</td>\n",
       "      <td>34.0</td>\n",
       "      <td>2022-08-11</td>\n",
       "      <td>16:00:00</td>\n",
       "    </tr>\n",
       "    <tr>\n",
       "      <th>206722</th>\n",
       "      <td>206723</td>\n",
       "      <td>Ulm in der Wanne</td>\n",
       "      <td>O3</td>\n",
       "      <td>99.0</td>\n",
       "      <td>2022-08-11</td>\n",
       "      <td>16:00:00</td>\n",
       "    </tr>\n",
       "    <tr>\n",
       "      <th>206723</th>\n",
       "      <td>206724</td>\n",
       "      <td>Ulm in der Wanne</td>\n",
       "      <td>PM10</td>\n",
       "      <td>24.0</td>\n",
       "      <td>2022-08-11</td>\n",
       "      <td>16:00:00</td>\n",
       "    </tr>\n",
       "    <tr>\n",
       "      <th>206724</th>\n",
       "      <td>206725</td>\n",
       "      <td>Ulm in der Wanne</td>\n",
       "      <td>PM2.5</td>\n",
       "      <td>10.0</td>\n",
       "      <td>2022-08-11</td>\n",
       "      <td>16:00:00</td>\n",
       "    </tr>\n",
       "  </tbody>\n",
       "</table>\n",
       "<p>206725 rows × 6 columns</p>\n",
       "</div>"
      ],
      "text/plain": [
       "           _id              station schadstoff  wert        date      time\n",
       "0            1  Ulm Trollingerweg 2        NO2  33.0  2020-11-13  01:00:00\n",
       "1            2  Ulm Trollingerweg 2         O3   0.0  2020-11-13  01:00:00\n",
       "2            3  Ulm Trollingerweg 2       PM10  26.0  2020-11-13  01:00:00\n",
       "3            4     Ulm in der Wanne       PM10  22.0  2020-11-13  01:00:00\n",
       "4            5  Ulm Trollingerweg 2      PM2.5  15.0  2020-11-13  01:00:00\n",
       "...        ...                  ...        ...   ...         ...       ...\n",
       "206720  206721     Ulm in der Wanne      PM2.5   8.0  2022-08-11  15:00:00\n",
       "206721  206722     Ulm in der Wanne        NO2  34.0  2022-08-11  16:00:00\n",
       "206722  206723     Ulm in der Wanne         O3  99.0  2022-08-11  16:00:00\n",
       "206723  206724     Ulm in der Wanne       PM10  24.0  2022-08-11  16:00:00\n",
       "206724  206725     Ulm in der Wanne      PM2.5  10.0  2022-08-11  16:00:00\n",
       "\n",
       "[206725 rows x 6 columns]"
      ]
     },
     "execution_count": 12,
     "metadata": {},
     "output_type": "execute_result"
    }
   ],
   "source": [
    "df"
   ]
  },
  {
   "cell_type": "markdown",
   "id": "17838366-37bb-436e-b0d7-cfe6b60231ea",
   "metadata": {},
   "source": [
    "## Modelling"
   ]
  },
  {
   "cell_type": "code",
   "execution_count": 16,
   "id": "75701315-fe5c-4b2a-b5e1-9fcea48c9231",
   "metadata": {},
   "outputs": [
    {
     "data": {
      "text/html": [
       "<div>\n",
       "<style scoped>\n",
       "    .dataframe tbody tr th:only-of-type {\n",
       "        vertical-align: middle;\n",
       "    }\n",
       "\n",
       "    .dataframe tbody tr th {\n",
       "        vertical-align: top;\n",
       "    }\n",
       "\n",
       "    .dataframe thead th {\n",
       "        text-align: right;\n",
       "    }\n",
       "</style>\n",
       "<table border=\"1\" class=\"dataframe\">\n",
       "  <thead>\n",
       "    <tr style=\"text-align: right;\">\n",
       "      <th></th>\n",
       "      <th>station</th>\n",
       "    </tr>\n",
       "  </thead>\n",
       "  <tbody>\n",
       "    <tr>\n",
       "      <th>0</th>\n",
       "      <td>Ulm Trollingerweg 2</td>\n",
       "    </tr>\n",
       "    <tr>\n",
       "      <th>1</th>\n",
       "      <td>Ulm in der Wanne</td>\n",
       "    </tr>\n",
       "    <tr>\n",
       "      <th>2</th>\n",
       "      <td>Ulm Maehringer Weg 95</td>\n",
       "    </tr>\n",
       "    <tr>\n",
       "      <th>3</th>\n",
       "      <td>Ulm Spielplatz Sonnenhalde</td>\n",
       "    </tr>\n",
       "    <tr>\n",
       "      <th>4</th>\n",
       "      <td>Ulm Spielplatz Eselsberg Fort</td>\n",
       "    </tr>\n",
       "  </tbody>\n",
       "</table>\n",
       "</div>"
      ],
      "text/plain": [
       "                         station\n",
       "0            Ulm Trollingerweg 2\n",
       "1               Ulm in der Wanne\n",
       "2          Ulm Maehringer Weg 95\n",
       "3     Ulm Spielplatz Sonnenhalde\n",
       "4  Ulm Spielplatz Eselsberg Fort"
      ]
     },
     "execution_count": 16,
     "metadata": {},
     "output_type": "execute_result"
    }
   ],
   "source": [
    "query = \"SELECT DISTINCT station FROM df\"\n",
    "sqldf(query, globals())"
   ]
  },
  {
   "cell_type": "code",
   "execution_count": null,
   "id": "65bf37a5-ed4c-4843-a680-437bab61c033",
   "metadata": {},
   "outputs": [
    {
     "data": {
      "text/html": [
       "<div>\n",
       "<style scoped>\n",
       "    .dataframe tbody tr th:only-of-type {\n",
       "        vertical-align: middle;\n",
       "    }\n",
       "\n",
       "    .dataframe tbody tr th {\n",
       "        vertical-align: top;\n",
       "    }\n",
       "\n",
       "    .dataframe thead th {\n",
       "        text-align: right;\n",
       "    }\n",
       "</style>\n",
       "<table border=\"1\" class=\"dataframe\">\n",
       "  <thead>\n",
       "    <tr style=\"text-align: right;\">\n",
       "      <th></th>\n",
       "      <th>date</th>\n",
       "    </tr>\n",
       "  </thead>\n",
       "  <tbody>\n",
       "    <tr>\n",
       "      <th>0</th>\n",
       "      <td>2020-11-13</td>\n",
       "    </tr>\n",
       "    <tr>\n",
       "      <th>1</th>\n",
       "      <td>2020-11-14</td>\n",
       "    </tr>\n",
       "    <tr>\n",
       "      <th>2</th>\n",
       "      <td>2020-11-15</td>\n",
       "    </tr>\n",
       "    <tr>\n",
       "      <th>3</th>\n",
       "      <td>2020-11-16</td>\n",
       "    </tr>\n",
       "    <tr>\n",
       "      <th>4</th>\n",
       "      <td>2020-11-17</td>\n",
       "    </tr>\n",
       "    <tr>\n",
       "      <th>...</th>\n",
       "      <td>...</td>\n",
       "    </tr>\n",
       "    <tr>\n",
       "      <th>631</th>\n",
       "      <td>2022-08-07</td>\n",
       "    </tr>\n",
       "    <tr>\n",
       "      <th>632</th>\n",
       "      <td>2022-08-08</td>\n",
       "    </tr>\n",
       "    <tr>\n",
       "      <th>633</th>\n",
       "      <td>2022-08-09</td>\n",
       "    </tr>\n",
       "    <tr>\n",
       "      <th>634</th>\n",
       "      <td>2022-08-10</td>\n",
       "    </tr>\n",
       "    <tr>\n",
       "      <th>635</th>\n",
       "      <td>2022-08-11</td>\n",
       "    </tr>\n",
       "  </tbody>\n",
       "</table>\n",
       "<p>636 rows × 1 columns</p>\n",
       "</div>"
      ],
      "text/plain": [
       "           date\n",
       "0    2020-11-13\n",
       "1    2020-11-14\n",
       "2    2020-11-15\n",
       "3    2020-11-16\n",
       "4    2020-11-17\n",
       "..          ...\n",
       "631  2022-08-07\n",
       "632  2022-08-08\n",
       "633  2022-08-09\n",
       "634  2022-08-10\n",
       "635  2022-08-11\n",
       "\n",
       "[636 rows x 1 columns]"
      ]
     },
     "execution_count": 15,
     "metadata": {},
     "output_type": "execute_result"
    }
   ],
   "source": [
    "query = \"SELECT DISTINCT date FROM df\"\n",
    "sqldf(query, globals())"
   ]
  },
  {
   "cell_type": "code",
   "execution_count": 21,
   "id": "2aced9cb-36ae-40dc-a31c-f7a88c99d63e",
   "metadata": {},
   "outputs": [
    {
     "data": {
      "text/html": [
       "<div>\n",
       "<style scoped>\n",
       "    .dataframe tbody tr th:only-of-type {\n",
       "        vertical-align: middle;\n",
       "    }\n",
       "\n",
       "    .dataframe tbody tr th {\n",
       "        vertical-align: top;\n",
       "    }\n",
       "\n",
       "    .dataframe thead th {\n",
       "        text-align: right;\n",
       "    }\n",
       "</style>\n",
       "<table border=\"1\" class=\"dataframe\">\n",
       "  <thead>\n",
       "    <tr style=\"text-align: right;\">\n",
       "      <th></th>\n",
       "      <th>schadstoff</th>\n",
       "      <th>min</th>\n",
       "      <th>max</th>\n",
       "    </tr>\n",
       "  </thead>\n",
       "  <tbody>\n",
       "    <tr>\n",
       "      <th>0</th>\n",
       "      <td>NO2</td>\n",
       "      <td>5.0</td>\n",
       "      <td>81.0</td>\n",
       "    </tr>\n",
       "    <tr>\n",
       "      <th>1</th>\n",
       "      <td>O3</td>\n",
       "      <td>0.0</td>\n",
       "      <td>241.0</td>\n",
       "    </tr>\n",
       "    <tr>\n",
       "      <th>2</th>\n",
       "      <td>PM10</td>\n",
       "      <td>0.0</td>\n",
       "      <td>113.0</td>\n",
       "    </tr>\n",
       "    <tr>\n",
       "      <th>3</th>\n",
       "      <td>PM2.5</td>\n",
       "      <td>0.0</td>\n",
       "      <td>93.0</td>\n",
       "    </tr>\n",
       "  </tbody>\n",
       "</table>\n",
       "</div>"
      ],
      "text/plain": [
       "  schadstoff  min    max\n",
       "0        NO2  5.0   81.0\n",
       "1         O3  0.0  241.0\n",
       "2       PM10  0.0  113.0\n",
       "3      PM2.5  0.0   93.0"
      ]
     },
     "execution_count": 21,
     "metadata": {},
     "output_type": "execute_result"
    }
   ],
   "source": [
    "query = \"SELECT schadstoff, MIN(wert) as min, MAX(wert) as max FROM df GROUP BY schadstoff\"\n",
    "sqldf(query, globals())"
   ]
  },
  {
   "cell_type": "code",
   "execution_count": 14,
   "id": "36ba3905-712f-4676-b7bd-35a8e53e9890",
   "metadata": {},
   "outputs": [],
   "source": [
    "##### Evaluation"
   ]
  },
  {
   "cell_type": "code",
   "execution_count": null,
   "id": "b92889b3-a736-42e6-b119-be701101d101",
   "metadata": {},
   "outputs": [],
   "source": []
  }
 ],
 "metadata": {
  "kernelspec": {
   "display_name": "Python 3 (ipykernel)",
   "language": "python",
   "name": "python3"
  },
  "language_info": {
   "codemirror_mode": {
    "name": "ipython",
    "version": 3
   },
   "file_extension": ".py",
   "mimetype": "text/x-python",
   "name": "python",
   "nbconvert_exporter": "python",
   "pygments_lexer": "ipython3",
   "version": "3.8.12"
  }
 },
 "nbformat": 4,
 "nbformat_minor": 5
}
